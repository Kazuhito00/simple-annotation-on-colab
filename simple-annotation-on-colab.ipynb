{
  "nbformat": 4,
  "nbformat_minor": 0,
  "metadata": {
    "colab": {
      "provenance": []
    },
    "kernelspec": {
      "name": "python3",
      "display_name": "Python 3"
    },
    "language_info": {
      "name": "python"
    }
  },
  "cells": [
    {
      "cell_type": "markdown",
      "source": [
        "# リポジトリクローン"
      ],
      "metadata": {
        "id": "WxXzEWJn8MtY"
      }
    },
    {
      "cell_type": "code",
      "source": [
        "!git clone https://github.com/Kazuhito00/simple-annotation-on-colab"
      ],
      "metadata": {
        "id": "-uuUYAkeC3k0"
      },
      "execution_count": null,
      "outputs": []
    },
    {
      "cell_type": "code",
      "source": [
        "%cd simple-annotation-on-colab"
      ],
      "metadata": {
        "id": "1V9sUMrJ6mD-"
      },
      "execution_count": null,
      "outputs": []
    },
    {
      "cell_type": "markdown",
      "source": [
        "# 画像読み込み"
      ],
      "metadata": {
        "id": "YG14PAww8SJ1"
      }
    },
    {
      "cell_type": "code",
      "source": [
        "import cv2\n",
        "from glob import glob\n",
        "\n",
        "train_images_np = []\n",
        "for filepath in sorted(glob('image/*.jpg')):\n",
        "    bgr_image = cv2.imread(filepath)\n",
        "    rgb_image = cv2.cvtColor(bgr_image, cv2.COLOR_BGR2RGB)\n",
        "    train_images_np.append(rgb_image)"
      ],
      "metadata": {
        "id": "VpXMjOPNxJ4K"
      },
      "execution_count": 3,
      "outputs": []
    },
    {
      "cell_type": "markdown",
      "source": [
        "# アノテーション：バウンディングボックス"
      ],
      "metadata": {
        "id": "bOnc2GYa8U5Y"
      }
    },
    {
      "cell_type": "code",
      "source": [
        "import colab_utils\n",
        "\n",
        "gt_bboxes = []\n",
        "colab_utils.annotate_bbox(train_images_np, box_storage_pointer=gt_bboxes)"
      ],
      "metadata": {
        "id": "AY9QnIbbyUUH"
      },
      "execution_count": null,
      "outputs": []
    },
    {
      "cell_type": "code",
      "source": [
        "print(gt_bboxes)"
      ],
      "metadata": {
        "id": "ABbbV-xKy9P6"
      },
      "execution_count": null,
      "outputs": []
    },
    {
      "cell_type": "markdown",
      "source": [
        "# アノテーション：多角形"
      ],
      "metadata": {
        "id": "N2UtDGF_8XWl"
      }
    },
    {
      "cell_type": "code",
      "source": [
        "import colab_utils\n",
        "\n",
        "gt_polygons = []\n",
        "colab_utils.annotate_polygon(train_images_np, polygon_storage_pointer=gt_polygons)"
      ],
      "metadata": {
        "id": "PhvnaF4JBjdt"
      },
      "execution_count": null,
      "outputs": []
    },
    {
      "cell_type": "code",
      "source": [
        "print(gt_polygons)"
      ],
      "metadata": {
        "id": "qDv-SH-sFSDp"
      },
      "execution_count": null,
      "outputs": []
    }
  ]
}